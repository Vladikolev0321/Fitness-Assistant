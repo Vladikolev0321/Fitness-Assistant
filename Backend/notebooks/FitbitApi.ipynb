{
 "cells": [
  {
   "cell_type": "code",
   "execution_count": 1,
   "metadata": {},
   "outputs": [],
   "source": [
    "import sys  \n",
    "sys.path.insert(0, 'C:/Users/vladi/Desktop/Diploma work/Fitness-Assistant/Backend')\n",
    "import fitbit\n",
    "import datetime\n",
    "\n",
    "from config import FITBIT_ACCESS_TOKEN, FITBIT_HEADER, FITBIT_CLIENT_ID, FITBIT_CLIENT_SECRET, FITBIT_REFRESH_TOKEN"
   ]
  },
  {
   "cell_type": "markdown",
   "metadata": {},
   "source": [
    "# Fitbit api"
   ]
  },
  {
   "cell_type": "code",
   "execution_count": 2,
   "metadata": {},
   "outputs": [],
   "source": [
    "\n",
    "auth_client = fitbit.Fitbit(FITBIT_CLIENT_ID, FITBIT_CLIENT_SECRET, oauth2=True, access_token=FITBIT_ACCESS_TOKEN, refresh_token=FITBIT_REFRESH_TOKEN)\n",
    "\n"
   ]
  },
  {
   "cell_type": "markdown",
   "metadata": {},
   "source": [
    "Getting info about my profile"
   ]
  },
  {
   "cell_type": "code",
   "execution_count": 3,
   "metadata": {},
   "outputs": [
    {
     "data": {
      "text/plain": [
       "{'user': {'age': 18,\n",
       "  'ambassador': False,\n",
       "  'avatar': 'https://static0.fitbit.com/images/profile/defaultProfile_100.png',\n",
       "  'avatar150': 'https://static0.fitbit.com/images/profile/defaultProfile_150.png',\n",
       "  'avatar640': 'https://static0.fitbit.com/images/profile/defaultProfile_640.png',\n",
       "  'averageDailySteps': 3931,\n",
       "  'challengesBeta': True,\n",
       "  'clockTimeDisplayFormat': '24hour',\n",
       "  'corporate': False,\n",
       "  'corporateAdmin': False,\n",
       "  'dateOfBirth': '2003-10-21',\n",
       "  'displayName': 'Vladislav K.',\n",
       "  'displayNameSetting': 'name',\n",
       "  'distanceUnit': 'METRIC',\n",
       "  'encodedId': '9K4GYJ',\n",
       "  'features': {'exerciseGoal': True},\n",
       "  'firstName': 'Vladislav',\n",
       "  'foodsLocale': 'en_US',\n",
       "  'fullName': 'Vladislav Kolev',\n",
       "  'gender': 'MALE',\n",
       "  'glucoseUnit': 'METRIC',\n",
       "  'height': 67.71653543307086,\n",
       "  'heightUnit': 'METRIC',\n",
       "  'isBugReportEnabled': False,\n",
       "  'isChild': False,\n",
       "  'isCoach': False,\n",
       "  'languageLocale': 'en_EU',\n",
       "  'lastName': 'Kolev',\n",
       "  'legalTermsAcceptRequired': False,\n",
       "  'locale': 'en_EU',\n",
       "  'memberSince': '2021-08-17',\n",
       "  'mfaEnabled': False,\n",
       "  'offsetFromUTCMillis': 7200000,\n",
       "  'sdkDeveloper': False,\n",
       "  'sleepTracking': 'Normal',\n",
       "  'startDayOfWeek': 'MONDAY',\n",
       "  'strideLengthRunning': 49.76377952755905,\n",
       "  'strideLengthRunningType': 'default',\n",
       "  'strideLengthWalking': 28.11023622047244,\n",
       "  'strideLengthWalkingType': 'default',\n",
       "  'swimUnit': 'METRIC',\n",
       "  'temperatureUnit': 'METRIC',\n",
       "  'timezone': 'Europe/Sofia',\n",
       "  'topBadges': [{'badgeGradientEndColor': 'FFDB01',\n",
       "    'badgeGradientStartColor': 'D99123',\n",
       "    'badgeType': 'DAILY_STEPS',\n",
       "    'category': 'Daily Steps',\n",
       "    'cheers': [],\n",
       "    'dateTime': '2021-08-21',\n",
       "    'description': '25,000 steps in a day',\n",
       "    'earnedMessage': 'Congrats on earning your first Classics badge!',\n",
       "    'encodedId': '228TLX',\n",
       "    'image100px': 'https://badges.fitbit.com/images/badges_new/100px/badge_daily_steps25k.png',\n",
       "    'image125px': 'https://badges.fitbit.com/images/badges_new/125px/badge_daily_steps25k.png',\n",
       "    'image300px': 'https://badges.fitbit.com/images/badges_new/300px/badge_daily_steps25k.png',\n",
       "    'image50px': 'https://badges.fitbit.com/images/badges_new/badge_daily_steps25k.png',\n",
       "    'image75px': 'https://badges.fitbit.com/images/badges_new/75px/badge_daily_steps25k.png',\n",
       "    'marketingDescription': \"You've walked 25,000 steps  And earned the Classics badge!\",\n",
       "    'mobileDescription': \"With this impressive fitness feat, you've added a badge to your growing collection. Nice job, you stepping all-star!\",\n",
       "    'name': 'Classics (25,000 steps in a day)',\n",
       "    'shareImage640px': 'https://badges.fitbit.com/images/badges_new/386px/shareLocalized/en_US/badge_daily_steps25k.png',\n",
       "    'shareText': 'I took 25,000 steps and earned the Classics badge! #Fitbit',\n",
       "    'shortDescription': '25,000 steps',\n",
       "    'shortName': 'Classics',\n",
       "    'timesAchieved': 1,\n",
       "    'value': 25000},\n",
       "   {'badgeGradientEndColor': '38D7FF',\n",
       "    'badgeGradientStartColor': '2DB4D7',\n",
       "    'badgeType': 'LIFETIME_DISTANCE',\n",
       "    'category': 'Lifetime Distance',\n",
       "    'cheers': [],\n",
       "    'dateTime': '2021-08-21',\n",
       "    'description': '112 lifetime kilometers',\n",
       "    'earnedMessage': \"Whoa! You've earned the Penguin March badge!\",\n",
       "    'encodedId': '22B8LP',\n",
       "    'image100px': 'https://badges.fitbit.com/images/badges_new/100px/badge_lifetime_miles70.png',\n",
       "    'image125px': 'https://badges.fitbit.com/images/badges_new/125px/badge_lifetime_miles70.png',\n",
       "    'image300px': 'https://badges.fitbit.com/images/badges_new/300px/badge_lifetime_miles70.png',\n",
       "    'image50px': 'https://badges.fitbit.com/images/badges_new/badge_lifetime_miles70.png',\n",
       "    'image75px': 'https://badges.fitbit.com/images/badges_new/75px/badge_lifetime_miles70.png',\n",
       "    'marketingDescription': \"By reaching 112 lifetime kilometers, you've earned the Penguin March badge!\",\n",
       "    'mobileDescription': 'You matched the distance of the March of the Penguins—the annual trip emperor penguins make to their breeding grounds.',\n",
       "    'name': 'Penguin March (112 lifetime kilometers)',\n",
       "    'shareImage640px': 'https://badges.fitbit.com/images/badges_new/386px/shareLocalized/en_US/badge_lifetime_miles70_km.png',\n",
       "    'shareText': 'I covered 112 kilometers with my #Fitbit and earned the Penguin March badge.',\n",
       "    'shortDescription': '112 kilometers',\n",
       "    'shortName': 'Penguin March',\n",
       "    'timesAchieved': 1,\n",
       "    'unit': 'KILOMETERS',\n",
       "    'value': 112}],\n",
       "  'waterUnit': 'METRIC',\n",
       "  'waterUnitName': 'ml',\n",
       "  'weight': 136.6,\n",
       "  'weightUnit': 'METRIC'}}"
      ]
     },
     "execution_count": 3,
     "metadata": {},
     "output_type": "execute_result"
    }
   ],
   "source": [
    "profile = auth_client.user_profile_get()\n",
    "profile"
   ]
  },
  {
   "cell_type": "markdown",
   "metadata": {},
   "source": [
    "#### Getting daily activity summary"
   ]
  },
  {
   "cell_type": "code",
   "execution_count": 4,
   "metadata": {},
   "outputs": [
    {
     "data": {
      "text/plain": [
       "'2021-12-07'"
      ]
     },
     "execution_count": 4,
     "metadata": {},
     "output_type": "execute_result"
    }
   ],
   "source": [
    "today = str(datetime.datetime.now().strftime(\"%Y-%m-%d\"))\n",
    "yesterday2 = str((datetime.datetime.now() - datetime.timedelta(days=1)).strftime(\"%Y-%m-%d\"))\n",
    "yesterday2"
   ]
  },
  {
   "cell_type": "code",
   "execution_count": 8,
   "metadata": {},
   "outputs": [
    {
     "data": {
      "text/plain": [
       "{'activities': [],\n",
       " 'goals': {'activeMinutes': 30,\n",
       "  'caloriesOut': 2696,\n",
       "  'distance': 5,\n",
       "  'steps': 10000},\n",
       " 'summary': {'activeScore': -1,\n",
       "  'activityCalories': 414,\n",
       "  'caloriesBMR': 1469,\n",
       "  'caloriesOut': 1783,\n",
       "  'distances': [{'activity': 'total', 'distance': 2.11},\n",
       "   {'activity': 'tracker', 'distance': 2.11},\n",
       "   {'activity': 'loggedActivities', 'distance': 0},\n",
       "   {'activity': 'veryActive', 'distance': 0},\n",
       "   {'activity': 'moderatelyActive', 'distance': 0},\n",
       "   {'activity': 'lightlyActive', 'distance': 2.04},\n",
       "   {'activity': 'sedentaryActive', 'distance': 0.01}],\n",
       "  'fairlyActiveMinutes': 0,\n",
       "  'lightlyActiveMinutes': 91,\n",
       "  'marginalCalories': 243,\n",
       "  'sedentaryMinutes': 1223,\n",
       "  'steps': 4470,\n",
       "  'veryActiveMinutes': 0}}"
      ]
     },
     "execution_count": 8,
     "metadata": {},
     "output_type": "execute_result"
    }
   ],
   "source": [
    "activities = auth_client.activities(date=today)\n",
    "activities"
   ]
  },
  {
   "cell_type": "markdown",
   "metadata": {},
   "source": [
    "Getting steps for this day"
   ]
  },
  {
   "cell_type": "code",
   "execution_count": 6,
   "metadata": {},
   "outputs": [
    {
     "data": {
      "text/plain": [
       "5146"
      ]
     },
     "execution_count": 6,
     "metadata": {},
     "output_type": "execute_result"
    }
   ],
   "source": [
    "activities['summary']['steps']"
   ]
  },
  {
   "cell_type": "markdown",
   "metadata": {},
   "source": [
    "How much calories are burned"
   ]
  },
  {
   "cell_type": "code",
   "execution_count": 7,
   "metadata": {},
   "outputs": [
    {
     "data": {
      "text/plain": [
       "1985"
      ]
     },
     "execution_count": 7,
     "metadata": {},
     "output_type": "execute_result"
    }
   ],
   "source": [
    "activities['summary']['caloriesOut']"
   ]
  }
 ],
 "metadata": {
  "kernelspec": {
   "display_name": "Python 3",
   "language": "python",
   "name": "python3"
  },
  "language_info": {
   "codemirror_mode": {
    "name": "ipython",
    "version": 3
   },
   "file_extension": ".py",
   "mimetype": "text/x-python",
   "name": "python",
   "nbconvert_exporter": "python",
   "pygments_lexer": "ipython3",
   "version": "3.8.5"
  }
 },
 "nbformat": 4,
 "nbformat_minor": 4
}
